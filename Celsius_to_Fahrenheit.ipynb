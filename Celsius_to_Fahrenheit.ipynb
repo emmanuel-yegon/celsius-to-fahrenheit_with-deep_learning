{
  "nbformat": 4,
  "nbformat_minor": 0,
  "metadata": {
    "colab": {
      "name": "Celsius to Fahrenheit.ipynb",
      "provenance": [],
      "collapsed_sections": []
    },
    "kernelspec": {
      "name": "python3",
      "display_name": "Python 3"
    },
    "language_info": {
      "name": "python"
    }
  },
  "cells": [
    {
      "cell_type": "code",
      "execution_count": 25,
      "metadata": {
        "id": "9lku3obhuWcu"
      },
      "outputs": [],
      "source": [
        "import tensorflow as tf\n",
        "# tf.compat.v1.logging.set_verbosity(tf.logging.error)\n",
        "import numpy as np"
      ]
    },
    {
      "cell_type": "code",
      "source": [
        "celsius_q = np.array([-40,-10,0,8,15,22,38], dtype=float)\n",
        "fahrenheit_a = np.array([-40,14,32,46,59,72,100], dtype=float)\n",
        "\n",
        "for i,c in enumerate(celsius_q):\n",
        "  print(\"{} degrees Celsius ={} degrees Fahrenheit\".format(c, fahrenheit_a[i]))\n",
        "  "
      ],
      "metadata": {
        "colab": {
          "base_uri": "https://localhost:8080/"
        },
        "id": "0OYyBG6Xv903",
        "outputId": "2a1ea4cb-6562-4c13-a11a-7dffa762e8a9"
      },
      "execution_count": 26,
      "outputs": [
        {
          "output_type": "stream",
          "name": "stdout",
          "text": [
            "-40.0 degrees Celsius =-40.0 degrees Fahrenheit\n",
            "-10.0 degrees Celsius =14.0 degrees Fahrenheit\n",
            "0.0 degrees Celsius =32.0 degrees Fahrenheit\n",
            "8.0 degrees Celsius =46.0 degrees Fahrenheit\n",
            "15.0 degrees Celsius =59.0 degrees Fahrenheit\n",
            "22.0 degrees Celsius =72.0 degrees Fahrenheit\n",
            "38.0 degrees Celsius =100.0 degrees Fahrenheit\n"
          ]
        }
      ]
    },
    {
      "cell_type": "code",
      "source": [
        "lO = tf.keras.layers.Dense(units=1, input_shape=[1]) #layers"
      ],
      "metadata": {
        "id": "lwfcL7wdyuSq"
      },
      "execution_count": 27,
      "outputs": []
    },
    {
      "cell_type": "code",
      "source": [
        ""
      ],
      "metadata": {
        "id": "OYqBs8-u0FjU"
      },
      "execution_count": 27,
      "outputs": []
    },
    {
      "cell_type": "code",
      "source": [
        "model = tf.keras.Sequential([lO])"
      ],
      "metadata": {
        "id": "yk2RaRfay50P"
      },
      "execution_count": 28,
      "outputs": []
    },
    {
      "cell_type": "code",
      "source": [
        "# model = tf.keras.Sequential([tf.keras.layers.Dense(units=1, input_shape=[1])]) #model definition with layers defined also"
      ],
      "metadata": {
        "id": "womPssazzXby"
      },
      "execution_count": 29,
      "outputs": []
    },
    {
      "cell_type": "code",
      "source": [
        "model.compile(loss='mean_squared_error',\n",
        "              optimizer=tf.keras.optimizers.Adam(0.1))"
      ],
      "metadata": {
        "id": "5FshmG0czXRL"
      },
      "execution_count": 30,
      "outputs": []
    },
    {
      "cell_type": "code",
      "source": [
        "history= model.fit(celsius_q, fahrenheit_a, epochs=500, verbose=False)\n",
        "print(\"Finished training the model\")"
      ],
      "metadata": {
        "colab": {
          "base_uri": "https://localhost:8080/"
        },
        "id": "CvCZL8bk1Vn7",
        "outputId": "b0944dd4-e238-48ff-a094-47b3907bd1fc"
      },
      "execution_count": 31,
      "outputs": [
        {
          "output_type": "stream",
          "name": "stdout",
          "text": [
            "Finished training the model\n"
          ]
        }
      ]
    },
    {
      "cell_type": "code",
      "source": [
        "import matplotlib.pyplot as plt\n",
        "plt.xlabel(\"Epoch Number\")\n",
        "plt.ylabel(\"Loss Magnitude\")\n",
        "plt.plot(history.history['loss'])"
      ],
      "metadata": {
        "colab": {
          "base_uri": "https://localhost:8080/",
          "height": 296
        },
        "id": "B2IGrE7s1zph",
        "outputId": "59af2d90-b9fe-4fed-c9a4-79b1f3f0980c"
      },
      "execution_count": 32,
      "outputs": [
        {
          "output_type": "execute_result",
          "data": {
            "text/plain": [
              "[<matplotlib.lines.Line2D at 0x7fe05b539150>]"
            ]
          },
          "metadata": {},
          "execution_count": 32
        },
        {
          "output_type": "display_data",
          "data": {
            "text/plain": [
              "<Figure size 432x288 with 1 Axes>"
            ],
            "image/png": "[encoded data removed]"
          },
          "metadata": {
            "needs_background": "light"
          }
        }
      ]
    },
    {
      "cell_type": "code",
      "source": [
        "print(model.predict([100.0]))"
      ],
      "metadata": {
        "colab": {
          "base_uri": "https://localhost:8080/"
        },
        "id": "3MoGCyzH2Y1K",
        "outputId": "cd9c4880-5231-4dda-a1d9-efb900f0c50c"
      },
      "execution_count": 33,
      "outputs": [
        {
          "output_type": "stream",
          "name": "stdout",
          "text": [
            "[[211.32538]]\n"
          ]
        }
      ]
    },
    {
      "cell_type": "code",
      "source": [
        "print(\"These are the layer variables {}\".format(lO.get_weights()))"
      ],
      "metadata": {
        "colab": {
          "base_uri": "https://localhost:8080/"
        },
        "id": "6M0TJV5K24ni",
        "outputId": "0b97c816-9701-46d5-bb0d-6a3aeead85b5"
      },
      "execution_count": 34,
      "outputs": [
        {
          "output_type": "stream",
          "name": "stdout",
          "text": [
            "These are the layer variables [array([[1.8223332]], dtype=float32), array([29.092052], dtype=float32)]\n"
          ]
        }
      ]
    },
    {
      "cell_type": "code",
      "source": [
        "llO = tf.keras.layers.Dense(units=4, input_shape=[1])\n",
        "ll1 = tf.keras.layers.Dense(units=4)\n",
        "ll2 = tf.keras.layers.Dense(units=1)\n",
        "model = tf.keras.Sequential([llO,ll1,ll2])\n",
        "model.compile(loss=\"mean_squared_error\", optimizer=tf.keras.optimizers.Adam(0.1))\n",
        "model.fit(celsius_q, fahrenheit_a, epochs=500, verbose=False)\n",
        "print(\"Finished training the model\")\n",
        "print(model.predict([100.0]))\n",
        "print(\"Model predicts that 100 degrees Celsius is: {} degrees Fahrenheit\".format(model.predict([100.0])))\n",
        "print(\"These are the llO variables {}\".format(llO.get_weights()))\n",
        "print(\"These are the ll1 variables {}\".format(ll1.get_weights()))\n",
        "print(\"These are the ll2 variables {}\".format(ll2.get_weights()))"
      ],
      "metadata": {
        "colab": {
          "base_uri": "https://localhost:8080/"
        },
        "id": "wC-1pOeu36fr",
        "outputId": "b20d00bd-705f-486c-9bbb-d71ac07ef946"
      },
      "execution_count": 40,
      "outputs": [
        {
          "output_type": "stream",
          "name": "stdout",
          "text": [
            "Finished training the model\n",
            "WARNING:tensorflow:5 out of the last 7 calls to <function Model.make_predict_function.<locals>.predict_function at 0x7fe05f241290> triggered tf.function retracing. Tracing is expensive and the excessive number of tracings could be due to (1) creating @tf.function repeatedly in a loop, (2) passing tensors with different shapes, (3) passing Python objects instead of tensors. For (1), please define your @tf.function outside of the loop. For (2), @tf.function has experimental_relax_shapes=True option that relaxes argument shapes that can avoid unnecessary retracing. For (3), please refer to https://www.tensorflow.org/guide/function#controlling_retracing and https://www.tensorflow.org/api_docs/python/tf/function for  more details.\n",
            "[[211.74742]]\n",
            "Model predicts that 100 degrees Celsius is: [[211.74742]] degrees Fahrenheit\n",
            "These are the llO variables [array([[ 0.01302203, -0.03072713,  0.1960769 ,  0.7639338 ]],\n",
            "      dtype=float32), array([-2.360531 , -3.5646398,  3.6735122,  3.9529974], dtype=float32)]\n",
            "These are the ll1 variables [array([[ 0.11015917, -0.40239757, -0.03530301,  0.61953795],\n",
            "       [ 0.6639675 , -0.01566497, -0.6612473 ,  0.7719712 ],\n",
            "       [ 0.50630903,  1.2606994 ,  0.6431341 ,  0.21026945],\n",
            "       [-0.318672  ,  0.7985938 ,  0.1637764 , -1.1674635 ]],\n",
            "      dtype=float32), array([-0.6635615,  3.6443694,  2.7758427, -3.941105 ], dtype=float32)]\n",
            "These are the ll2 variables [array([[-0.17878148],\n",
            "       [ 1.1095191 ],\n",
            "       [ 0.6004904 ],\n",
            "       [-0.7620213 ]], dtype=float32), array([3.5888073], dtype=float32)]\n"
          ]
        }
      ]
    },
    {
      "cell_type": "code",
      "source": [
        ""
      ],
      "metadata": {
        "id": "Eg5Ncjqs5saM"
      },
      "execution_count": null,
      "outputs": []
    }
  ]
}